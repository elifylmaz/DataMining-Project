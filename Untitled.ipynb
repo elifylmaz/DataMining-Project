{
 "cells": [
  {
   "cell_type": "code",
   "execution_count": 5,
   "id": "cda617b7-4799-42c7-98b3-2ae721e4548f",
   "metadata": {},
   "outputs": [
    {
     "name": "stdout",
     "output_type": "stream",
     "text": [
      "Requirement already satisfied: langdetect in /opt/anaconda3/lib/python3.11/site-packages (1.0.9)\n",
      "Requirement already satisfied: six in /opt/anaconda3/lib/python3.11/site-packages (from langdetect) (1.16.0)\n",
      "\n",
      "\u001b[1m[\u001b[0m\u001b[34;49mnotice\u001b[0m\u001b[1;39;49m]\u001b[0m\u001b[39;49m A new release of pip is available: \u001b[0m\u001b[31;49m24.1.1\u001b[0m\u001b[39;49m -> \u001b[0m\u001b[32;49m24.3.1\u001b[0m\n",
      "\u001b[1m[\u001b[0m\u001b[34;49mnotice\u001b[0m\u001b[1;39;49m]\u001b[0m\u001b[39;49m To update, run: \u001b[0m\u001b[32;49mpip install --upgrade pip\u001b[0m\n",
      "Note: you may need to restart the kernel to use updated packages.\n"
     ]
    }
   ],
   "source": [
    "pip install langdetect\n"
   ]
  },
  {
   "cell_type": "code",
   "execution_count": 9,
   "id": "a7d1ac29-ec41-47d5-bc3b-74113d063fc0",
   "metadata": {},
   "outputs": [
    {
     "name": "stdout",
     "output_type": "stream",
     "text": [
      "İngilizce yorumlar filtered_reviews.txt dosyasına kaydedildi.\n"
     ]
    }
   ],
   "source": [
    "from langdetect import detect\n",
    "import os\n",
    "\n",
    "# Dosya yolları\n",
    "input_file = \"all_reviews_3.txt\"  # Orijinal dosya\n",
    "output_file = \"filtered_reviews.txt\"  # Filtrelenmiş dosya\n",
    "\n",
    "def is_english(text):\n",
    "    try:\n",
    "        return detect(text) == 'en'  # Yorumun dilini kontrol eder\n",
    "    except:\n",
    "        return False  # Eğer hata alırsa İngilizce değil kabul eder\n",
    "\n",
    "def filter_english_reviews(input_file, output_file):\n",
    "    with open(input_file, \"r\", encoding=\"utf-8\") as infile, open(output_file, \"w\", encoding=\"utf-8\") as outfile:\n",
    "        for line in infile:\n",
    "            if \"Yorum:\" in line:\n",
    "                # Yorum başlangıcını tespit eder\n",
    "                parts = line.split(\": \", 1)\n",
    "                if len(parts) == 2 and is_english(parts[1]):\n",
    "                    outfile.write(line)\n",
    "\n",
    "# İngilizce yorumları filtrele ve kaydet\n",
    "filter_english_reviews(input_file, output_file)\n",
    "\n",
    "print(f\"İngilizce yorumlar {output_file} dosyasına kaydedildi.\")\n"
   ]
  },
  {
   "cell_type": "code",
   "execution_count": null,
   "id": "5eecaf0e-15b8-40f5-8704-68ae4aaa8bbc",
   "metadata": {},
   "outputs": [],
   "source": []
  }
 ],
 "metadata": {
  "kernelspec": {
   "display_name": "Python 3 (ipykernel)",
   "language": "python",
   "name": "python3"
  },
  "language_info": {
   "codemirror_mode": {
    "name": "ipython",
    "version": 3
   },
   "file_extension": ".py",
   "mimetype": "text/x-python",
   "name": "python",
   "nbconvert_exporter": "python",
   "pygments_lexer": "ipython3",
   "version": "3.11.7"
  }
 },
 "nbformat": 4,
 "nbformat_minor": 5
}
